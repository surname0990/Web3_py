{
 "cells": [
  {
   "cell_type": "code",
   "execution_count": 4,
   "metadata": {},
   "outputs": [],
   "source": [
    "from web3 import Web3\n",
    "infura_url='https://mainnet.infura.io/v3/a600467663174d708d3bb0846787f8fe'\n",
    "w3 = Web3(Web3.HTTPProvider(infura_url))"
   ]
  },
  {
   "cell_type": "code",
   "execution_count": 5,
   "metadata": {},
   "outputs": [
    {
     "name": "stdout",
     "output_type": "stream",
     "text": [
      "Balance : 1479.182359785775713834 ETH on block : 13454155 \n"
     ]
    }
   ],
   "source": [
    "# Баланс в определенном блоке\n",
    "def balance_in_block(address, block):\n",
    "    if block == None:\n",
    "        block = w3.eth.default_block\n",
    "    else:\n",
    "        block = block\n",
    "\n",
    "    balance_block = w3.eth.getBalance(address, block)\n",
    "    balance_block = w3.fromWei(balance_block, 'ether')\n",
    "    print(f'Balance : {balance_block} ETH on block : {block} ')\n",
    "\n",
    "balance_in_block(\"0x0708F87A089a91C65d48721Aa941084648562287\", 13454155) "
   ]
  },
  {
   "cell_type": "code",
   "execution_count": 6,
   "metadata": {},
   "outputs": [
    {
     "name": "stdout",
     "output_type": "stream",
     "text": [
      "Все функции ERC20 токена:\n",
      "[<Function allowance(address,address)>, <Function approve(address,uint256)>, <Function balanceOf(address)>, <Function decimals()>, <Function decreaseAllowance(address,uint256)>, <Function increaseAllowance(address,uint256)>, <Function name()>, <Function setupDecimals(uint8)>, <Function symbol()>, <Function totalSupply()>, <Function transfer(address,uint256)>, <Function transferFrom(address,address,uint256)>]\n"
     ]
    }
   ],
   "source": [
    "#Все функции ERC20 токена:\n",
    "import json\n",
    "ERC20_ABI = json.loads('''[{\"inputs\":[{\"internalType\":\"string\",\"name\":\"_name\",\"type\":\"string\"},{\"internalType\":\"string\",\"name\":\"_symbol\",\"type\":\"string\"},{\"internalType\":\"uint256\",\"name\":\"_initialSupply\",\"type\":\"uint256\"}],\"stateMutability\":\"nonpayable\",\"type\":\"constructor\"},{\"anonymous\":false,\"inputs\":[{\"indexed\":true,\"internalType\":\"address\",\"name\":\"owner\",\"type\":\"address\"},{\"indexed\":true,\"internalType\":\"address\",\"name\":\"spender\",\"type\":\"address\"},{\"indexed\":false,\"internalType\":\"uint256\",\"name\":\"value\",\"type\":\"uint256\"}],\"name\":\"Approval\",\"type\":\"event\"},{\"anonymous\":false,\"inputs\":[{\"indexed\":true,\"internalType\":\"address\",\"name\":\"from\",\"type\":\"address\"},{\"indexed\":true,\"internalType\":\"address\",\"name\":\"to\",\"type\":\"address\"},{\"indexed\":false,\"internalType\":\"uint256\",\"name\":\"value\",\"type\":\"uint256\"}],\"name\":\"Transfer\",\"type\":\"event\"},{\"inputs\":[{\"internalType\":\"address\",\"name\":\"owner\",\"type\":\"address\"},{\"internalType\":\"address\",\"name\":\"spender\",\"type\":\"address\"}],\"name\":\"allowance\",\"outputs\":[{\"internalType\":\"uint256\",\"name\":\"\",\"type\":\"uint256\"}],\"stateMutability\":\"view\",\"type\":\"function\"},{\"inputs\":[{\"internalType\":\"address\",\"name\":\"spender\",\"type\":\"address\"},{\"internalType\":\"uint256\",\"name\":\"amount\",\"type\":\"uint256\"}],\"name\":\"approve\",\"outputs\":[{\"internalType\":\"bool\",\"name\":\"\",\"type\":\"bool\"}],\"stateMutability\":\"nonpayable\",\"type\":\"function\"},{\"inputs\":[{\"internalType\":\"address\",\"name\":\"account\",\"type\":\"address\"}],\"name\":\"balanceOf\",\"outputs\":[{\"internalType\":\"uint256\",\"name\":\"\",\"type\":\"uint256\"}],\"stateMutability\":\"view\",\"type\":\"function\"},{\"inputs\":[],\"name\":\"decimals\",\"outputs\":[{\"internalType\":\"uint8\",\"name\":\"\",\"type\":\"uint8\"}],\"stateMutability\":\"view\",\"type\":\"function\"},{\"inputs\":[{\"internalType\":\"address\",\"name\":\"spender\",\"type\":\"address\"},{\"internalType\":\"uint256\",\"name\":\"subtractedValue\",\"type\":\"uint256\"}],\"name\":\"decreaseAllowance\",\"outputs\":[{\"internalType\":\"bool\",\"name\":\"\",\"type\":\"bool\"}],\"stateMutability\":\"nonpayable\",\"type\":\"function\"},{\"inputs\":[{\"internalType\":\"address\",\"name\":\"spender\",\"type\":\"address\"},{\"internalType\":\"uint256\",\"name\":\"addedValue\",\"type\":\"uint256\"}],\"name\":\"increaseAllowance\",\"outputs\":[{\"internalType\":\"bool\",\"name\":\"\",\"type\":\"bool\"}],\"stateMutability\":\"nonpayable\",\"type\":\"function\"},{\"inputs\":[],\"name\":\"name\",\"outputs\":[{\"internalType\":\"string\",\"name\":\"\",\"type\":\"string\"}],\"stateMutability\":\"view\",\"type\":\"function\"},{\"inputs\":[{\"internalType\":\"uint8\",\"name\":\"decimals_\",\"type\":\"uint8\"}],\"name\":\"setupDecimals\",\"outputs\":[],\"stateMutability\":\"nonpayable\",\"type\":\"function\"},{\"inputs\":[],\"name\":\"symbol\",\"outputs\":[{\"internalType\":\"string\",\"name\":\"\",\"type\":\"string\"}],\"stateMutability\":\"view\",\"type\":\"function\"},{\"inputs\":[],\"name\":\"totalSupply\",\"outputs\":[{\"internalType\":\"uint256\",\"name\":\"\",\"type\":\"uint256\"}],\"stateMutability\":\"view\",\"type\":\"function\"},{\"inputs\":[{\"internalType\":\"address\",\"name\":\"recipient\",\"type\":\"address\"},{\"internalType\":\"uint256\",\"name\":\"amount\",\"type\":\"uint256\"}],\"name\":\"transfer\",\"outputs\":[{\"internalType\":\"bool\",\"name\":\"\",\"type\":\"bool\"}],\"stateMutability\":\"nonpayable\",\"type\":\"function\"},{\"inputs\":[{\"internalType\":\"address\",\"name\":\"sender\",\"type\":\"address\"},{\"internalType\":\"address\",\"name\":\"recipient\",\"type\":\"address\"},{\"internalType\":\"uint256\",\"name\":\"amount\",\"type\":\"uint256\"}],\"name\":\"transferFrom\",\"outputs\":[{\"internalType\":\"bool\",\"name\":\"\",\"type\":\"bool\"}],\"stateMutability\":\"nonpayable\",\"type\":\"function\"}]''')\n",
    "usdt_contract_address = '0xA11c8D9DC9b66E209Ef60F0C8D969D3CD988782c'\n",
    "usdt_contract = w3.eth.contract(usdt_contract_address, abi=ERC20_ABI)\n",
    "all_functions = usdt_contract.all_functions()\n",
    "print(f\"Все функции ERC20 токена:\\n{all_functions}\")"
   ]
  },
  {
   "cell_type": "code",
   "execution_count": 9,
   "metadata": {},
   "outputs": [
    {
     "name": "stdout",
     "output_type": "stream",
     "text": [
      "{'0x55d398326f99059fF775485246999027B3197955': 19357349465782901200, '0x8AC76a51cc950d9822D68b83fE1Ad97B32Cd580d': 38062949201715000000, '0xe9e7CEA3DedcA5984780Bafc599bD69ADd087D56': 0}\n"
     ]
    }
   ],
   "source": [
    "from eth_utils import encode_hex, function_abi_to_4byte_selector, add_0x_prefix\n",
    "from web3._utils.contracts import encode_abi\n",
    "from web3._utils.abi import get_abi_output_types\n",
    "from web3 import Web3\n",
    "from web3.types import HexBytes\n",
    "\n",
    "web3 = Web3(Web3.HTTPProvider(\"https://bsc-dataseed1.defibit.io\"))\n",
    "\n",
    "# ABI функции tokensBalance. Взять можно тут https://bscscan.com/address/0x83cb147c13cBA4Ba4a5228BfDE42c88c8F6881F6#code\n",
    "TOKENS_BALANCE_ABI = {\"inputs\":[{\"internalType\":\"address\",\"name\":\"owner\",\"type\":\"address\"},{\"internalType\":\"address[]\",\"name\":\"contracts\",\"type\":\"address[]\"}],\"name\":\"tokensBalance\",\"outputs\":[{\"components\":[{\"internalType\":\"bool\",\"name\":\"success\",\"type\":\"bool\"},{\"internalType\":\"bytes\",\"name\":\"data\",\"type\":\"bytes\"}],\"internalType\":\"struct BalanceScanner.Result[]\",\"name\":\"results\",\"type\":\"tuple[]\"}],\"stateMutability\":\"view\",\"type\":\"function\"}\n",
    "TOKENS_BALANCE_SELECTOR = encode_hex(function_abi_to_4byte_selector(TOKENS_BALANCE_ABI))\n",
    "tokens_balance_output_types = get_abi_output_types(TOKENS_BALANCE_ABI)\n",
    "\n",
    "# баланс каких токенов будем проверять\n",
    "tokens_to_check = [\n",
    "    '0x55d398326f99059fF775485246999027B3197955', # USDT\n",
    "    '0x8AC76a51cc950d9822D68b83fE1Ad97B32Cd580d', # USDC\n",
    "    '0xe9e7CEA3DedcA5984780Bafc599bD69ADd087D56', # BUSD\n",
    "\n",
    "\n",
    "]\n",
    "# адрес пользователя, для которого будем смотреть баланс\n",
    "user_address = \"0x2A647559a6c5dcB76ce1751101449ebbC039b157\"\n",
    "encoded_data = encode_abi(\n",
    "    web3=web3,\n",
    "    abi=TOKENS_BALANCE_ABI,\n",
    "    arguments=(user_address, [t for t in tokens_to_check]),  # аргументы функции tokensBalance\n",
    "    data=TOKENS_BALANCE_SELECTOR,\n",
    ")\n",
    "tx = {\n",
    "  \"to\": \"0x83cb147c13cBA4Ba4a5228BfDE42c88c8F6881F6\",  # адрес контракта BalanceScanner бск\n",
    "#   \"to\": \"0x08A8fDBddc160A7d5b957256b903dCAb1aE512C5\",  # эфир ChainId 1\n",
    "#   \"to\": \"0x08A8fDBddc160A7d5b957256b903dCAb1aE512C5\",  # полигон ChainId 137\n",
    "   \"data\": encoded_data\n",
    "}\n",
    "\n",
    "# обращаемся к ноде\n",
    "tx_raw_data = web3.eth.call(tx)\n",
    "output_data = web3.codec.decode_abi(tokens_balance_output_types, tx_raw_data)[0]\n",
    "res = {}\n",
    "for token_address, (_, bytes_balance) in zip(tokens_to_check, output_data):\n",
    "    wei_balance = web3.codec.decode_abi([\"uint256\"], HexBytes(bytes_balance))[0]\n",
    "    res[token_address] = wei_balance\n",
    "\n",
    "print(res)"
   ]
  },
  {
   "cell_type": "code",
   "execution_count": 6,
   "metadata": {},
   "outputs": [
    {
     "name": "stdout",
     "output_type": "stream",
     "text": [
      "{'0x55d398326f99059fF775485246999027B3197955': 19357349465782901200, '0x8AC76a51cc950d9822D68b83fE1Ad97B32Cd580d': 38062949201715000000, '0xe9e7CEA3DedcA5984780Bafc599bD69ADd087D56': 0}\n"
     ]
    }
   ],
   "source": [
    "from eth_utils import encode_hex, function_abi_to_4byte_selector, add_0x_prefix\n",
    "from web3._utils.contracts import encode_abi\n",
    "from web3._utils.abi import get_abi_output_types\n",
    "from web3 import Web3\n",
    "from web3.types import HexBytes\n",
    "\n",
    "web3 = Web3(Web3.HTTPProvider(\"https://bsc-dataseed1.defibit.io\"))\n",
    "\n",
    "# ABI функции tokensBalance. Взять можно тут https://bscscan.com/address/0x83cb147c13cBA4Ba4a5228BfDE42c88c8F6881F6#code\n",
    "TOKENS_BALANCE_ABI = {\"inputs\":[{\"internalType\":\"address\",\"name\":\"owner\",\"type\":\"address\"},{\"internalType\":\"address[]\",\"name\":\"contracts\",\"type\":\"address[]\"}],\"name\":\"tokensBalance\",\"outputs\":[{\"components\":[{\"internalType\":\"bool\",\"name\":\"success\",\"type\":\"bool\"},{\"internalType\":\"bytes\",\"name\":\"data\",\"type\":\"bytes\"}],\"internalType\":\"struct BalanceScanner.Result[]\",\"name\":\"results\",\"type\":\"tuple[]\"}],\"stateMutability\":\"view\",\"type\":\"function\"}\n",
    "TOKENS_BALANCE_SELECTOR = encode_hex(function_abi_to_4byte_selector(TOKENS_BALANCE_ABI))\n",
    "tokens_balance_output_types = get_abi_output_types(TOKENS_BALANCE_ABI)\n",
    "\n",
    "# баланс каких токенов будем проверять\n",
    "tokens_to_check = [\n",
    "    '0x55d398326f99059fF775485246999027B3197955', # USDT\n",
    "    '0x8AC76a51cc950d9822D68b83fE1Ad97B32Cd580d', # USDCS\n",
    "    '0xe9e7CEA3DedcA5984780Bafc599bD69ADd087D56', # BUSD\n",
    "\n",
    "]\n",
    "# адрес пользователя, для которого будем смотреть баланс\n",
    "user_address = \"0x2A647559a6c5dcB76ce1751101449ebbC039b157\"\n",
    "encoded_data = encode_abi(\n",
    "    web3=web3,\n",
    "    abi=TOKENS_BALANCE_ABI,\n",
    "    arguments=(user_address, [t for t in tokens_to_check]),  # аргументы функции tokensBalance\n",
    "    data=TOKENS_BALANCE_SELECTOR,\n",
    ")\n",
    "tx = {\n",
    "  \"to\": \"0x83cb147c13cBA4Ba4a5228BfDE42c88c8F6881F6\",  # адрес контракта BalanceScanner\n",
    "  \"data\": encoded_data\n",
    "}\n",
    "# обращаемся к ноде\n",
    "tx_raw_data = web3.eth.call(tx)\n",
    "output_data = web3.codec.decode_abi(tokens_balance_output_types, tx_raw_data)[0]\n",
    "res = {}\n",
    "for token_address, (_, bytes_balance) in zip(tokens_to_check, output_data):\n",
    "    wei_balance = web3.codec.decode_abi([\"uint256\"], HexBytes(bytes_balance))[0]\n",
    "    res[token_address] = wei_balance\n",
    "# key-address token , value -value token \n",
    "# {\n",
    "#    '0x55d398326f99059fF775485246999027B3197955': 19357349465782901200,\n",
    "#    '0x8AC76a51cc950d9822D68b83fE1Ad97B32Cd580d': 38062949201715000000,\n",
    "#    '0xe9e7CEA3DedcA\n",
    "res"
   ]
  },
  {
   "cell_type": "code",
   "execution_count": 7,
   "metadata": {},
   "outputs": [
    {
     "data": {
      "text/plain": [
       "'USDT'"
      ]
     },
     "execution_count": 7,
     "metadata": {},
     "output_type": "execute_result"
    }
   ],
   "source": [
    "#check addres token in json list token\n",
    "import json\n",
    "\n",
    "path_bsc = 'bsc.json'\n",
    "path_eth = 'ethereum.json'\n",
    "\n",
    "addr = \"0x55d398326f99059fF775485246999027B3197955\" \n",
    "\n",
    "def addr_to_token(addr):\n",
    "    with open(path_bsc, 'r') as f:\n",
    "        data = json.loads(f.read())\n",
    "        k =0 \n",
    "        while data[k][\"address\"] != addr:\n",
    "            k+=1\n",
    "        symbol = (data[k][\"symbol\"])   \n",
    "    return symbol\n",
    "addr_to_token(addr)"
   ]
  },
  {
   "cell_type": "code",
   "execution_count": null,
   "metadata": {},
   "outputs": [],
   "source": [
    "#парсинг кошельков из файла json\n",
    "import json\n",
    "path_bsc = 'bsc.json'\n",
    "path_eth = 'ethereum.json'\n",
    "\n",
    "with open(path_bsc, 'r') as f:\n",
    "    data = json.loads(f.read())\n",
    "    k =0 \n",
    "    while data[k][\"address\"] != True:\n",
    "        k+=1\n",
    "        addr = data[k][\"address\"]\n",
    "        symbol =data[k][\"symbol\"] \n",
    "        print(f'\"{addr}\",')\n",
    "\n",
    "#return:\n",
    "# \"0xfe56d5892BDffC7BF58f2E84BE1b2C32D21C308b\",\n",
    "# \"0xfd5af95C12446b60d23e16A4EA95690cE942e5dC\",\n"
   ]
  },
  {
   "cell_type": "code",
   "execution_count": null,
   "metadata": {},
   "outputs": [],
   "source": [
    "#сделать список токенов из json\n",
    "import json\n",
    "\n",
    "path_bsc = 'bsc.json'\n",
    "# path_eth = 'ethereum.json'\n",
    "# path_bsc = 'bscswap_cust_2.json'\n",
    "\n",
    "with open(path_eth, 'r') as f:\n",
    "    data = json.loads(f.read())\n",
    "    k =0 \n",
    "    while data[k][\"address\"] != True:\n",
    "        k+=1\n",
    "        addr = data[k][\"address\"]\n",
    "        symbol =data[k][\"symbol\"] \n",
    "        print(f'\"{addr}\" = \"{symbol}USDT\",')\n"
   ]
  },
  {
   "cell_type": "code",
   "execution_count": null,
   "metadata": {},
   "outputs": [],
   "source": [
    "#проверить название токенов из словаря на совпадение по именам папок с датафреймами\n",
    "import os\n",
    "\n",
    "mypath = \"spot\\monthly\\klines\"\n",
    "# print((os.listdir(mypath)))\n",
    "list_csv_tokens = os.listdir(mypath)\n",
    "for tokens_csv in list_csv_tokens:\n",
    "    for token_addr in a.keys():\n",
    "        if token_addr != tokens_csv:\n",
    "            print((token_addr))\n",
    "\n"
   ]
  }
 ],
 "metadata": {
  "kernelspec": {
   "display_name": "Python 3",
   "language": "python",
   "name": "python3"
  },
  "language_info": {
   "codemirror_mode": {
    "name": "ipython",
    "version": 3
   },
   "file_extension": ".py",
   "mimetype": "text/x-python",
   "name": "python",
   "nbconvert_exporter": "python",
   "pygments_lexer": "ipython3",
   "version": "3.7.9"
  },
  "orig_nbformat": 4,
  "vscode": {
   "interpreter": {
    "hash": "fbf38809935e39f72161a271a1645cffc3be58087cc7fd053f4a2f19435a12d0"
   }
  }
 },
 "nbformat": 4,
 "nbformat_minor": 2
}
